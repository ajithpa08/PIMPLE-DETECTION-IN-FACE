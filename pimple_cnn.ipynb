{
  "nbformat": 4,
  "nbformat_minor": 0,
  "metadata": {
    "colab": {
      "provenance": []
    },
    "kernelspec": {
      "name": "python3",
      "display_name": "Python 3"
    },
    "language_info": {
      "name": "python"
    }
  },
  "cells": [
    {
      "cell_type": "code",
      "source": [
        "!pip install scikit-learn\n"
      ],
      "metadata": {
        "colab": {
          "base_uri": "https://localhost:8080/"
        },
        "id": "bq2TS3oEZW2c",
        "outputId": "3d5e73e3-c693-4f49-b0f7-3f8555550a0a"
      },
      "execution_count": null,
      "outputs": [
        {
          "output_type": "stream",
          "name": "stdout",
          "text": [
            "Requirement already satisfied: scikit-learn in /usr/local/lib/python3.10/dist-packages (1.2.2)\n",
            "Requirement already satisfied: numpy>=1.17.3 in /usr/local/lib/python3.10/dist-packages (from scikit-learn) (1.23.5)\n",
            "Requirement already satisfied: scipy>=1.3.2 in /usr/local/lib/python3.10/dist-packages (from scikit-learn) (1.11.2)\n",
            "Requirement already satisfied: joblib>=1.1.1 in /usr/local/lib/python3.10/dist-packages (from scikit-learn) (1.3.2)\n",
            "Requirement already satisfied: threadpoolctl>=2.0.0 in /usr/local/lib/python3.10/dist-packages (from scikit-learn) (3.2.0)\n"
          ]
        }
      ]
    },
    {
      "cell_type": "code",
      "source": [
        "import tensorflow as tf\n",
        "from tensorflow.keras.models import Sequential\n",
        "from tensorflow.keras.layers import Conv2D, MaxPooling2D, Flatten, Dense, Dropout\n",
        "from tensorflow.keras.preprocessing.image import ImageDataGenerator\n",
        "\n",
        "# Define the CNN model\n",
        "model = Sequential()\n",
        "\n",
        "# Convolutional layer 1\n",
        "model.add(Conv2D(32, (3, 3), activation='relu', input_shape=(64, 64, 3)))\n",
        "model.add(MaxPooling2D(pool_size=(2, 2)))\n",
        "\n",
        "# Convolutional layer 2\n",
        "model.add(Conv2D(64, (3, 3), activation='relu'))\n",
        "model.add(MaxPooling2D(pool_size=(2, 2)))\n",
        "\n",
        "# Flatten the output from the previous layer\n",
        "model.add(Flatten())\n",
        "\n",
        "# Fully connected layers\n",
        "model.add(Dense(128, activation='relu'))\n",
        "model.add(Dropout(0.5))  # Dropout for regularization\n",
        "model.add(Dense(1, activation='sigmoid'))  # Binary classification (pimple or not)\n",
        "\n",
        "# Compile the model\n",
        "model.compile(optimizer='adam', loss='binary_crossentropy', metrics=['accuracy'])\n",
        "\n",
        "# Data preprocessing\n",
        "train_datagen = ImageDataGenerator(rescale=1./255, shear_range=0.2, zoom_range=0.2, horizontal_flip=True)\n",
        "train_generator = train_datagen.flow_from_directory('/content/drive/MyDrive/pimple/Train', target_size=(64, 64), batch_size=32, class_mode='binary')\n",
        "\n",
        "# Training the model\n",
        "model.fit(train_generator, steps_per_epoch=len(train_generator), epochs=10)\n",
        "\n",
        "# Save the model\n",
        "model.save('model.h5')\n",
        "from google.colab import files\n",
        "files.download('model.h5')"
      ],
      "metadata": {
        "colab": {
          "base_uri": "https://localhost:8080/",
          "height": 436
        },
        "id": "8Zjb8qPQWMMq",
        "outputId": "8ca494f7-22bf-43c4-a93b-2535c1f37507"
      },
      "execution_count": null,
      "outputs": [
        {
          "output_type": "stream",
          "name": "stdout",
          "text": [
            "Found 456 images belonging to 2 classes.\n",
            "Epoch 1/10\n",
            "15/15 [==============================] - 7s 442ms/step - loss: 0.5296 - accuracy: 0.7851\n",
            "Epoch 2/10\n",
            "15/15 [==============================] - 5s 333ms/step - loss: 0.1620 - accuracy: 0.9539\n",
            "Epoch 3/10\n",
            "15/15 [==============================] - 4s 236ms/step - loss: 0.1171 - accuracy: 0.9518\n",
            "Epoch 4/10\n",
            "15/15 [==============================] - 4s 276ms/step - loss: 0.0972 - accuracy: 0.9605\n",
            "Epoch 5/10\n",
            "15/15 [==============================] - 5s 364ms/step - loss: 0.0334 - accuracy: 0.9890\n",
            "Epoch 6/10\n",
            "15/15 [==============================] - 4s 239ms/step - loss: 0.0210 - accuracy: 0.9956\n",
            "Epoch 7/10\n",
            "15/15 [==============================] - 4s 242ms/step - loss: 0.0091 - accuracy: 1.0000\n",
            "Epoch 8/10\n",
            "15/15 [==============================] - 4s 276ms/step - loss: 0.0064 - accuracy: 0.9978\n",
            "Epoch 9/10\n",
            "15/15 [==============================] - 4s 239ms/step - loss: 0.0132 - accuracy: 0.9956\n",
            "Epoch 10/10\n",
            "15/15 [==============================] - 4s 239ms/step - loss: 0.0097 - accuracy: 0.9978\n"
          ]
        },
        {
          "output_type": "stream",
          "name": "stderr",
          "text": [
            "/usr/local/lib/python3.10/dist-packages/keras/src/engine/training.py:3000: UserWarning: You are saving your model as an HDF5 file via `model.save()`. This file format is considered legacy. We recommend using instead the native Keras format, e.g. `model.save('my_model.keras')`.\n",
            "  saving_api.save_model(\n"
          ]
        },
        {
          "output_type": "display_data",
          "data": {
            "text/plain": [
              "<IPython.core.display.Javascript object>"
            ],
            "application/javascript": [
              "\n",
              "    async function download(id, filename, size) {\n",
              "      if (!google.colab.kernel.accessAllowed) {\n",
              "        return;\n",
              "      }\n",
              "      const div = document.createElement('div');\n",
              "      const label = document.createElement('label');\n",
              "      label.textContent = `Downloading \"${filename}\": `;\n",
              "      div.appendChild(label);\n",
              "      const progress = document.createElement('progress');\n",
              "      progress.max = size;\n",
              "      div.appendChild(progress);\n",
              "      document.body.appendChild(div);\n",
              "\n",
              "      const buffers = [];\n",
              "      let downloaded = 0;\n",
              "\n",
              "      const channel = await google.colab.kernel.comms.open(id);\n",
              "      // Send a message to notify the kernel that we're ready.\n",
              "      channel.send({})\n",
              "\n",
              "      for await (const message of channel.messages) {\n",
              "        // Send a message to notify the kernel that we're ready.\n",
              "        channel.send({})\n",
              "        if (message.buffers) {\n",
              "          for (const buffer of message.buffers) {\n",
              "            buffers.push(buffer);\n",
              "            downloaded += buffer.byteLength;\n",
              "            progress.value = downloaded;\n",
              "          }\n",
              "        }\n",
              "      }\n",
              "      const blob = new Blob(buffers, {type: 'application/binary'});\n",
              "      const a = document.createElement('a');\n",
              "      a.href = window.URL.createObjectURL(blob);\n",
              "      a.download = filename;\n",
              "      div.appendChild(a);\n",
              "      a.click();\n",
              "      div.remove();\n",
              "    }\n",
              "  "
            ]
          },
          "metadata": {}
        },
        {
          "output_type": "display_data",
          "data": {
            "text/plain": [
              "<IPython.core.display.Javascript object>"
            ],
            "application/javascript": [
              "download(\"download_06bf45a7-024e-4081-a05e-9ab27020a4e6\", \"model.h5\", 19547936)"
            ]
          },
          "metadata": {}
        }
      ]
    },
    {
      "cell_type": "code",
      "source": [
        "import os\n",
        "from sklearn.model_selection import train_test_split\n",
        "\n",
        "# Specify the path to the folder containing your image data\n",
        "data_folder = '/content/drive/MyDrive/pimple/Train'\n",
        "\n",
        "# List to store image file paths\n",
        "image_paths = []\n",
        "\n",
        "# List to store corresponding labels (if applicable)\n",
        "labels = []\n",
        "\n",
        "# Assuming you have subfolders in your data folder, each subfolder representing a class\n",
        "# You can modify this logic to fit your specific dataset structure\n",
        "for class_folder in os.listdir(data_folder):\n",
        "    class_path = os.path.join(data_folder, class_folder)\n",
        "    if os.path.isdir(class_path):\n",
        "        for image_filename in os.listdir(class_path):\n",
        "            image_path = os.path.join(class_path, image_filename)\n",
        "            image_paths.append(image_path)\n",
        "            labels.append(class_folder)  # Assuming folder names are class labels\n",
        "\n",
        "# Split the data into training and testing sets\n",
        "x_train_paths, x_test_paths, y_train, y_test = train_test_split(\n",
        "    image_paths, labels, test_size=0.30, random_state=42\n",
        ")\n",
        "\n",
        "# Now, x_train_paths and x_test_paths contain paths to the images in the training and testing sets, respectively"
      ],
      "metadata": {
        "id": "Mo4PG8VXWRw9"
      },
      "execution_count": null,
      "outputs": []
    },
    {
      "cell_type": "code",
      "source": [
        "from sklearn.metrics import accuracy_score\n",
        "\n",
        "# Assuming you have predictions (predicted labels) and true labels (ground truth)\n",
        "y_true = [1, 0, 1, 1, 0, 1, 0]  # Replace with your true labels\n",
        "y_pred = [1, 0, 1, 0, 1, 1, 0]  # Replace with your predicted labels\n",
        "\n",
        "# Calculate accuracy\n",
        "accuracy = accuracy_score(y_true, y_pred)\n",
        "\n",
        "# Print the accuracy\n",
        "print(f'Accuracy: {accuracy * 100:.2f}%')"
      ],
      "metadata": {
        "colab": {
          "base_uri": "https://localhost:8080/"
        },
        "id": "J6xx5ZXAWVuu",
        "outputId": "8d237e67-11d9-47ad-bcf0-a56f91be0045"
      },
      "execution_count": null,
      "outputs": [
        {
          "output_type": "stream",
          "name": "stdout",
          "text": [
            "Accuracy: 71.43%\n"
          ]
        }
      ]
    },
    {
      "cell_type": "code",
      "source": [
        "from sklearn.datasets import make_classification\n",
        "from sklearn.model_selection import train_test_split\n",
        "from sklearn.ensemble import RandomForestClassifier\n",
        "\n",
        "# Generate a simple synthetic dataset\n",
        "X, y = make_classification(n_samples=1000, n_features=20, random_state=42)\n",
        "\n",
        "# Split the dataset into training and testing sets\n",
        "X_train, X_test, y_train, y_test = train_test_split(X, y, test_size=0.3, random_state=42)\n",
        "# Generate a simple synthetic dataset\n",
        "X, y = make_classification(n_samples=1000, n_features=20, random_state=42)\n",
        "\n",
        "# Split the dataset into training and testing sets\n",
        "X_train, X_test, y_train, y_test = train_test_split(X, y, test_size=0.3, random_state=42)\n",
        "\n",
        "# Train a Random Forest Classifier\n",
        "clf = RandomForestClassifier(n_estimators=100, random_state=42)\n",
        "clf.fit(X_train, y_train)\n",
        "\n",
        "# Make predictions on the test set\n",
        "y_pred = clf.predict(X_test)\n",
        "\n",
        "# Calculate the initial accuracy\n",
        "initial_accuracy = accuracy_score(y_test, y_pred)\n",
        "print(f'Initial Accuracy: {initial_accuracy * 100:.2f}%')\n",
        "\n",
        "# Perform hyperparameter tuning\n",
        "# You can use techniques like GridSearchCV or RandomizedSearchCV to find the best hyperparameters\n",
        "\n",
        "# Example hyperparameter tuning using GridSearchCV\n",
        "from sklearn.model_selection import GridSearchCV\n",
        "\n",
        "param_grid = {\n",
        "    'n_estimators': [50, 100, 200],\n",
        "    'max_depth': [None, 10, 20],\n",
        "    'min_samples_split': [2, 5, 10]\n",
        "}\n",
        "\n",
        "grid_search = GridSearchCV(RandomForestClassifier(random_state=42), param_grid, cv=5)\n",
        "grid_search.fit(X_train, y_train)\n",
        "\n",
        "best_params = grid_search.best_params_\n",
        "print(f'Best Hyperparameters: {best_params}')\n",
        "\n",
        "# # Train a new Random Forest Classifier with the best hyperparameters\n",
        "clf = RandomForestClassifier(n_estimators=best_params['n_estimators'], max_depth=best_params['max_depth'], min_samples_split=best_params['min_samples_split'], random_state=42)\n",
        "clf.fit(X_train, y_train)\n",
        "\n",
        "# # # Make predictions on the test set\n",
        "y_pred = clf.predict(X_test)\n",
        "\n",
        "# # # Calculate the accuracy after hyperparameter tuning\n",
        "tuned_accuracy = accuracy_score(y_test, y_pred)\n",
        "print(f'Accuracy after Hyperparameter Tuning: {tuned_accuracy * 100:.2f}%')"
      ],
      "metadata": {
        "colab": {
          "base_uri": "https://localhost:8080/"
        },
        "id": "jqO1Bg3XXf3T",
        "outputId": "4e00a574-426e-43c6-d8fa-a9a3723325bd"
      },
      "execution_count": null,
      "outputs": [
        {
          "output_type": "stream",
          "name": "stdout",
          "text": [
            "Initial Accuracy: 85.67%\n",
            "Best Hyperparameters: {'max_depth': None, 'min_samples_split': 2, 'n_estimators': 50}\n",
            "Accuracy after Hyperparameter Tuning: 85.00%\n"
          ]
        }
      ]
    }
  ]
}